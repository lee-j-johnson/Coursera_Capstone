{
    "cells": [
        {
            "cell_type": "markdown",
            "metadata": {},
            "source": "# Exeter Eco-Cafe Project"
        },
        {
            "cell_type": "markdown",
            "metadata": {},
            "source": "## Introduction\n\nI want to open an eco-friendly cafe in my home city of Exeter in the UK. The city has a wide variety of cafes and eateries, but none of them are climate change thematic. Because of the very large student population in the city, I believe an eco-friendly cafe could be a popular addition to the body of existing cafe franchises.\n\nTo begin, I want to consider the cafe's carbon footprint. To tout the cafe as eco-friendly, I will need to demonstrate its comparatively low emissions to its peers. The venue will likely have to be a commercial let. So either I need to find a commercial let with already low building emissions, or I need to find a commercial let with a small footprint so upgrading the infrastructure is cost-effective. If I can demonstrate the venue's low carbon footprint then the business will begin to fulfil its brief as an eco-friendly cafe.\n\nI can use machine learning to cluster the districts of Exeter into three groups by their commercial building emissions, cafe competition, and other relevant metrics. Then I can consider which districts are potentially suitable for my eco-friendly cafe."
        },
        {
            "cell_type": "markdown",
            "metadata": {},
            "source": "## Data\n- I will use Energy Performance of Buildings Data for England and Wales to obtain non-domestic Energy Performance Certificates (EPCs) from the Energy Performance of Buildings Register. An EPC contains information about a building's characteristics and CO2 emissions per m2 of floor area. The certificate rates each building A+ to G for its energy efficiency.\n\n    I want access to non-domestic EPCs only, as these represent business/commercial buildings. Domestic EPCs represent homes and are not germane to this investigation.\n\n    I can obtain all of this data from the Ministry of Housing, Communities & Local Government's Non-Domestic Energy Performance Certificates API."
        },
        {
            "cell_type": "markdown",
            "metadata": {},
            "source": "- I will use Foursquare to obtain business venue data by category. I can find the locations and metadata of cafes and other venues within a certain distance of a longitude/latitude coordinate or an address.\n\n    I can obtain all of this data from the Foursquare Developer's Places API."
        },
        {
            "cell_type": "markdown",
            "metadata": {},
            "source": "- I will use Lower Layer Super Output Area (LSOA) boundaries to partition Exeter's districts. The boundaries are complied from 2011 census data. They are a geographic hierarchy designed to improve the reporting of small area statistics in England and Wales.\n\n    The LSOA data is published by the Office for National Statistics, but I will obtain the LSOA data from a GitHub repository maintained by martinjc. The GitHub repository makes accessing only the relevant geographic data very simple."
        },
        {
            "cell_type": "markdown",
            "metadata": {},
            "source": "- Finally, I need to be able to reference Exeter postcodes to their respective LSOA boundaries, and vice versa. I will use a dataset called Postcode to Output Area to Lower Layer Super Output Area to Middle Layer Super Output Area to Local Authority District (February 2020) Lookup in the UK, also published by the Office for National Statistics.\n\n    I have extracted only the data for the Exeter Local Authority (E07000041) in a CSV file to use in this investigation."
        }
    ],
    "metadata": {
        "kernelspec": {
            "display_name": "Python 3.8",
            "language": "python",
            "name": "python3"
        },
        "language_info": {
            "codemirror_mode": {
                "name": "ipython",
                "version": 3
            },
            "file_extension": ".py",
            "mimetype": "text/x-python",
            "name": "python",
            "nbconvert_exporter": "python",
            "pygments_lexer": "ipython3",
            "version": "3.8.10"
        }
    },
    "nbformat": 4,
    "nbformat_minor": 2
}